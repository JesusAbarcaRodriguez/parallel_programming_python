{
 "cells": [
  {
   "cell_type": "markdown",
   "metadata": {},
   "source": [
    "# Aceleración de Código con Numba en Python\n",
    "\n",
    "Numba es una biblioteca de Python que permite la compilación just-in-time (JIT) para acelerar el código de Python, especialmente el que utiliza matrices de NumPy. En este notebook, exploraremos cómo usar Numba para paralelizar código y comparar el rendimiento con el código normal.\n",
    "\n",
    "## Instalación de Numba\n",
    "\n",
    "Primero, asegúrate de tener Numba instalado. Si no lo tienes, ejecuta la siguiente celda:\n",
    "\n",
    "```python\n",
    "!pip install numba\n",
    "\n"
   ]
  },
  {
   "cell_type": "markdown",
   "metadata": {},
   "source": [
    "## Importación de Bibliotecas\n",
    "Importamos las bibliotecas necesarias para este notebook."
   ]
  },
  {
   "cell_type": "code",
   "execution_count": 1,
   "metadata": {},
   "outputs": [],
   "source": [
    "from numba import njit, prange\n",
    "import numpy as np\n",
    "import time\n"
   ]
  },
  {
   "cell_type": "markdown",
   "metadata": {},
   "source": [
    "## Función Normal vs. Función Paralelizada\n",
    "Definimos dos versiones de una función que suma los elementos de un vector: una versión normal y una versión paralelizada.\n",
    "\n",
    "### Función Normal"
   ]
  },
  {
   "cell_type": "code",
   "execution_count": 2,
   "metadata": {},
   "outputs": [],
   "source": [
    "@njit\n",
    "def sum_vector_normal(vector):\n",
    "    total_sum = 0.0\n",
    "    for i in range(len(vector)):\n",
    "        total_sum += vector[i]\n",
    "    return total_sum\n"
   ]
  },
  {
   "cell_type": "markdown",
   "metadata": {},
   "source": [
    "### Función Paralelizada"
   ]
  },
  {
   "cell_type": "code",
   "execution_count": 3,
   "metadata": {},
   "outputs": [],
   "source": [
    "@njit(parallel=True)\n",
    "def sum_vector_parallel(vector):\n",
    "    total_sum = 0.0\n",
    "    for i in prange(len(vector)):\n",
    "        total_sum += vector[i]\n",
    "    return total_sum\n"
   ]
  },
  {
   "cell_type": "markdown",
   "metadata": {},
   "source": [
    "## Medición del Tiempo de Ejecución\n",
    "Vamos a crear un vector grande y medir el tiempo de ejecución de ambas funciones."
   ]
  },
  {
   "cell_type": "code",
   "execution_count": 4,
   "metadata": {},
   "outputs": [
    {
     "name": "stdout",
     "output_type": "stream",
     "text": [
      "Resultado normal: 5000127.4548530085\n",
      "Tiempo de ejecución normal: 0.3336522579193115 segundos\n",
      "Resultado paralelizado: 5000127.454852881\n",
      "Tiempo de ejecución paralelizado: 0.4069523811340332 segundos\n"
     ]
    }
   ],
   "source": [
    "# Crear un vector aleatorio grande\n",
    "vector = np.random.rand(10000000)\n",
    "\n",
    "# Medir el tiempo de ejecución de la versión normal\n",
    "start_time = time.time()\n",
    "result_normal = sum_vector_normal(vector)\n",
    "end_time = time.time()\n",
    "print(\"Resultado normal:\", result_normal)\n",
    "print(\"Tiempo de ejecución normal:\", end_time - start_time, \"segundos\")\n",
    "\n",
    "# Medir el tiempo de ejecución de la versión paralelizada\n",
    "start_time = time.time()\n",
    "result_parallel = sum_vector_parallel(vector)\n",
    "end_time = time.time()\n",
    "print(\"Resultado paralelizado:\", result_parallel)\n",
    "print(\"Tiempo de ejecución paralelizado:\", end_time - start_time, \"segundos\")\n"
   ]
  },
  {
   "cell_type": "markdown",
   "metadata": {},
   "source": [
    "\n",
    "## Análisis de Resultados\n",
    "En esta sección, comparamos los resultados y tiempos de ejecución de las funciones normal y paralelizada.\n",
    "\n",
    "## Resultado y Tiempo de Ejecución\n",
    "\n",
    "### Función Normal:\n",
    "\n",
    "Resultado: result_normal\n",
    "Tiempo de ejecución: (end_time - start_time) segundos\n",
    "\n",
    "### Función Paralelizada:\n",
    "\n",
    "Resultado: result_parallel\n",
    "Tiempo de ejecución: (end_time - start_time) segundos\n",
    "\n",
    "## Interpretación\n",
    "La función paralelizada debería tener un tiempo de ejecución menor en comparación con la función normal, especialmente en operaciones con grandes conjuntos de datos. Ambos métodos deben dar el mismo resultado.\n",
    "\n",
    "## Conclusión\n",
    "Numba permite paralelizar código de manera eficiente con cambios mínimos en el código original. Esto puede resultar en mejoras significativas en el rendimiento, especialmente en operaciones intensivas en cálculos. La clave es utilizar prange en lugar de range y el decorador @njit(parallel=True) para habilitar la paralelización automática.\n",
    "\n",
    "## Referencias\n",
    "https://numba.readthedocs.io/en/stable/user/parallel.html\n"
   ]
  }
 ],
 "metadata": {
  "kernelspec": {
   "display_name": "Python 3",
   "language": "python",
   "name": "python3"
  },
  "language_info": {
   "codemirror_mode": {
    "name": "ipython",
    "version": 3
   },
   "file_extension": ".py",
   "mimetype": "text/x-python",
   "name": "python",
   "nbconvert_exporter": "python",
   "pygments_lexer": "ipython3",
   "version": "3.12.3"
  }
 },
 "nbformat": 4,
 "nbformat_minor": 2
}
